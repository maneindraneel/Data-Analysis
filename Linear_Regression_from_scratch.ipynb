{
  "nbformat": 4,
  "nbformat_minor": 0,
  "metadata": {
    "colab": {
      "name": "DS5220-Ass1.ipynb",
      "provenance": [],
      "collapsed_sections": []
    },
    "kernelspec": {
      "name": "python3",
      "display_name": "Python 3"
    }
  },
  "cells": [
    {
      "cell_type": "markdown",
      "metadata": {
        "id": "qDB5D1hR8-ol"
      },
      "source": [
        "# Importing Libraries"
      ]
    },
    {
      "cell_type": "code",
      "metadata": {
        "id": "QfOi0iNMBDfR"
      },
      "source": [
        "import pandas as pd\n",
        "import numpy as np\n",
        "\n",
        "from sklearn.linear_model import LinearRegression\n",
        "from sklearn.metrics import mean_squared_error\n",
        "from sklearn.preprocessing import StandardScaler\n",
        "\n",
        "import matplotlib.pyplot as plt\n",
        "import matplotlib.patches as mpatches"
      ],
      "execution_count": null,
      "outputs": []
    },
    {
      "cell_type": "markdown",
      "metadata": {
        "id": "yi_ouNHV9BSD"
      },
      "source": [
        "# Importing Datasets"
      ]
    },
    {
      "cell_type": "code",
      "metadata": {
        "id": "ImjDPVZ3BM-v"
      },
      "source": [
        "kc_house_data = pd.read_csv(\"/content/kc_house_data.csv\")\n",
        "train_df = pd.read_csv(\"/content/train.csv\", index_col=0)\n",
        "test_df = pd.read_csv(\"/content/test.csv\", index_col=0)"
      ],
      "execution_count": null,
      "outputs": []
    },
    {
      "cell_type": "code",
      "metadata": {
        "colab": {
          "base_uri": "https://localhost:8080/",
          "height": 215
        },
        "id": "W_S_18cQDaGm",
        "outputId": "f5b68a87-73c4-409d-fdae-066499878d6a"
      },
      "source": [
        "train_df.head()"
      ],
      "execution_count": null,
      "outputs": [
        {
          "output_type": "execute_result",
          "data": {
            "text/html": [
              "<div>\n",
              "<style scoped>\n",
              "    .dataframe tbody tr th:only-of-type {\n",
              "        vertical-align: middle;\n",
              "    }\n",
              "\n",
              "    .dataframe tbody tr th {\n",
              "        vertical-align: top;\n",
              "    }\n",
              "\n",
              "    .dataframe thead th {\n",
              "        text-align: right;\n",
              "    }\n",
              "</style>\n",
              "<table border=\"1\" class=\"dataframe\">\n",
              "  <thead>\n",
              "    <tr style=\"text-align: right;\">\n",
              "      <th></th>\n",
              "      <th>price</th>\n",
              "      <th>bedrooms</th>\n",
              "      <th>bathrooms</th>\n",
              "      <th>sqft_living</th>\n",
              "      <th>sqft_lot</th>\n",
              "      <th>floors</th>\n",
              "      <th>waterfront</th>\n",
              "      <th>view</th>\n",
              "      <th>condition</th>\n",
              "      <th>grade</th>\n",
              "      <th>sqft_above</th>\n",
              "      <th>sqft_basement</th>\n",
              "      <th>yr_built</th>\n",
              "      <th>yr_renovated</th>\n",
              "      <th>zipcode</th>\n",
              "      <th>lat</th>\n",
              "      <th>long</th>\n",
              "      <th>sqft_living15</th>\n",
              "      <th>sqft_lot15</th>\n",
              "    </tr>\n",
              "  </thead>\n",
              "  <tbody>\n",
              "    <tr>\n",
              "      <th>1</th>\n",
              "      <td>221900.0</td>\n",
              "      <td>3</td>\n",
              "      <td>1.00</td>\n",
              "      <td>1180</td>\n",
              "      <td>5650</td>\n",
              "      <td>1.0</td>\n",
              "      <td>0</td>\n",
              "      <td>0</td>\n",
              "      <td>3</td>\n",
              "      <td>7</td>\n",
              "      <td>1180</td>\n",
              "      <td>0</td>\n",
              "      <td>1955</td>\n",
              "      <td>0</td>\n",
              "      <td>98178</td>\n",
              "      <td>47.5112</td>\n",
              "      <td>-122.257</td>\n",
              "      <td>1340</td>\n",
              "      <td>5650</td>\n",
              "    </tr>\n",
              "    <tr>\n",
              "      <th>2</th>\n",
              "      <td>538000.0</td>\n",
              "      <td>3</td>\n",
              "      <td>2.25</td>\n",
              "      <td>2570</td>\n",
              "      <td>7242</td>\n",
              "      <td>2.0</td>\n",
              "      <td>0</td>\n",
              "      <td>0</td>\n",
              "      <td>3</td>\n",
              "      <td>7</td>\n",
              "      <td>2170</td>\n",
              "      <td>400</td>\n",
              "      <td>1951</td>\n",
              "      <td>1991</td>\n",
              "      <td>98125</td>\n",
              "      <td>47.7210</td>\n",
              "      <td>-122.319</td>\n",
              "      <td>1690</td>\n",
              "      <td>7639</td>\n",
              "    </tr>\n",
              "    <tr>\n",
              "      <th>3</th>\n",
              "      <td>180000.0</td>\n",
              "      <td>2</td>\n",
              "      <td>1.00</td>\n",
              "      <td>770</td>\n",
              "      <td>10000</td>\n",
              "      <td>1.0</td>\n",
              "      <td>0</td>\n",
              "      <td>0</td>\n",
              "      <td>3</td>\n",
              "      <td>6</td>\n",
              "      <td>770</td>\n",
              "      <td>0</td>\n",
              "      <td>1933</td>\n",
              "      <td>0</td>\n",
              "      <td>98028</td>\n",
              "      <td>47.7379</td>\n",
              "      <td>-122.233</td>\n",
              "      <td>2720</td>\n",
              "      <td>8062</td>\n",
              "    </tr>\n",
              "    <tr>\n",
              "      <th>4</th>\n",
              "      <td>604000.0</td>\n",
              "      <td>4</td>\n",
              "      <td>3.00</td>\n",
              "      <td>1960</td>\n",
              "      <td>5000</td>\n",
              "      <td>1.0</td>\n",
              "      <td>0</td>\n",
              "      <td>0</td>\n",
              "      <td>5</td>\n",
              "      <td>7</td>\n",
              "      <td>1050</td>\n",
              "      <td>910</td>\n",
              "      <td>1965</td>\n",
              "      <td>0</td>\n",
              "      <td>98136</td>\n",
              "      <td>47.5208</td>\n",
              "      <td>-122.393</td>\n",
              "      <td>1360</td>\n",
              "      <td>5000</td>\n",
              "    </tr>\n",
              "    <tr>\n",
              "      <th>5</th>\n",
              "      <td>510000.0</td>\n",
              "      <td>3</td>\n",
              "      <td>2.00</td>\n",
              "      <td>1680</td>\n",
              "      <td>8080</td>\n",
              "      <td>1.0</td>\n",
              "      <td>0</td>\n",
              "      <td>0</td>\n",
              "      <td>3</td>\n",
              "      <td>8</td>\n",
              "      <td>1680</td>\n",
              "      <td>0</td>\n",
              "      <td>1987</td>\n",
              "      <td>0</td>\n",
              "      <td>98074</td>\n",
              "      <td>47.6168</td>\n",
              "      <td>-122.045</td>\n",
              "      <td>1800</td>\n",
              "      <td>7503</td>\n",
              "    </tr>\n",
              "  </tbody>\n",
              "</table>\n",
              "</div>"
            ],
            "text/plain": [
              "      price  bedrooms  bathrooms  ...     long  sqft_living15  sqft_lot15\n",
              "1  221900.0         3       1.00  ... -122.257           1340        5650\n",
              "2  538000.0         3       2.25  ... -122.319           1690        7639\n",
              "3  180000.0         2       1.00  ... -122.233           2720        8062\n",
              "4  604000.0         4       3.00  ... -122.393           1360        5000\n",
              "5  510000.0         3       2.00  ... -122.045           1800        7503\n",
              "\n",
              "[5 rows x 19 columns]"
            ]
          },
          "metadata": {
            "tags": []
          },
          "execution_count": 55
        }
      ]
    },
    {
      "cell_type": "code",
      "metadata": {
        "colab": {
          "base_uri": "https://localhost:8080/",
          "height": 215
        },
        "id": "v9vV5nryR7YK",
        "outputId": "2a5d4f5e-8376-48bc-dc37-fbc07c29b3b3"
      },
      "source": [
        "test_df.head()"
      ],
      "execution_count": null,
      "outputs": [
        {
          "output_type": "execute_result",
          "data": {
            "text/html": [
              "<div>\n",
              "<style scoped>\n",
              "    .dataframe tbody tr th:only-of-type {\n",
              "        vertical-align: middle;\n",
              "    }\n",
              "\n",
              "    .dataframe tbody tr th {\n",
              "        vertical-align: top;\n",
              "    }\n",
              "\n",
              "    .dataframe thead th {\n",
              "        text-align: right;\n",
              "    }\n",
              "</style>\n",
              "<table border=\"1\" class=\"dataframe\">\n",
              "  <thead>\n",
              "    <tr style=\"text-align: right;\">\n",
              "      <th></th>\n",
              "      <th>id</th>\n",
              "      <th>date</th>\n",
              "      <th>price</th>\n",
              "      <th>bedrooms</th>\n",
              "      <th>bathrooms</th>\n",
              "      <th>sqft_living</th>\n",
              "      <th>sqft_lot</th>\n",
              "      <th>floors</th>\n",
              "      <th>waterfront</th>\n",
              "      <th>view</th>\n",
              "      <th>condition</th>\n",
              "      <th>grade</th>\n",
              "      <th>sqft_above</th>\n",
              "      <th>sqft_basement</th>\n",
              "      <th>yr_built</th>\n",
              "      <th>yr_renovated</th>\n",
              "      <th>zipcode</th>\n",
              "      <th>lat</th>\n",
              "      <th>long</th>\n",
              "      <th>sqft_living15</th>\n",
              "      <th>sqft_lot15</th>\n",
              "    </tr>\n",
              "  </thead>\n",
              "  <tbody>\n",
              "    <tr>\n",
              "      <th>1001</th>\n",
              "      <td>3131200640</td>\n",
              "      <td>20150427T000000</td>\n",
              "      <td>700000.0</td>\n",
              "      <td>4</td>\n",
              "      <td>2.00</td>\n",
              "      <td>1830</td>\n",
              "      <td>4590</td>\n",
              "      <td>2.0</td>\n",
              "      <td>0</td>\n",
              "      <td>0</td>\n",
              "      <td>3</td>\n",
              "      <td>8</td>\n",
              "      <td>1830</td>\n",
              "      <td>0</td>\n",
              "      <td>1908</td>\n",
              "      <td>0</td>\n",
              "      <td>98105</td>\n",
              "      <td>47.6593</td>\n",
              "      <td>-122.327</td>\n",
              "      <td>1650</td>\n",
              "      <td>4590</td>\n",
              "    </tr>\n",
              "    <tr>\n",
              "      <th>1002</th>\n",
              "      <td>984000710</td>\n",
              "      <td>20141022T000000</td>\n",
              "      <td>270000.0</td>\n",
              "      <td>3</td>\n",
              "      <td>2.00</td>\n",
              "      <td>1560</td>\n",
              "      <td>8853</td>\n",
              "      <td>1.0</td>\n",
              "      <td>0</td>\n",
              "      <td>0</td>\n",
              "      <td>3</td>\n",
              "      <td>7</td>\n",
              "      <td>1560</td>\n",
              "      <td>0</td>\n",
              "      <td>1967</td>\n",
              "      <td>0</td>\n",
              "      <td>98058</td>\n",
              "      <td>47.4312</td>\n",
              "      <td>-122.171</td>\n",
              "      <td>1610</td>\n",
              "      <td>8750</td>\n",
              "    </tr>\n",
              "    <tr>\n",
              "      <th>1003</th>\n",
              "      <td>4167300350</td>\n",
              "      <td>20140508T000000</td>\n",
              "      <td>258000.0</td>\n",
              "      <td>4</td>\n",
              "      <td>1.75</td>\n",
              "      <td>1730</td>\n",
              "      <td>8320</td>\n",
              "      <td>1.0</td>\n",
              "      <td>0</td>\n",
              "      <td>0</td>\n",
              "      <td>3</td>\n",
              "      <td>7</td>\n",
              "      <td>1230</td>\n",
              "      <td>500</td>\n",
              "      <td>1977</td>\n",
              "      <td>0</td>\n",
              "      <td>98023</td>\n",
              "      <td>47.3270</td>\n",
              "      <td>-122.361</td>\n",
              "      <td>1840</td>\n",
              "      <td>9800</td>\n",
              "    </tr>\n",
              "    <tr>\n",
              "      <th>1004</th>\n",
              "      <td>2826049282</td>\n",
              "      <td>20140614T000000</td>\n",
              "      <td>530000.0</td>\n",
              "      <td>3</td>\n",
              "      <td>2.50</td>\n",
              "      <td>1930</td>\n",
              "      <td>7214</td>\n",
              "      <td>2.0</td>\n",
              "      <td>0</td>\n",
              "      <td>0</td>\n",
              "      <td>3</td>\n",
              "      <td>8</td>\n",
              "      <td>1930</td>\n",
              "      <td>0</td>\n",
              "      <td>2005</td>\n",
              "      <td>0</td>\n",
              "      <td>98125</td>\n",
              "      <td>47.7191</td>\n",
              "      <td>-122.309</td>\n",
              "      <td>1930</td>\n",
              "      <td>7266</td>\n",
              "    </tr>\n",
              "    <tr>\n",
              "      <th>1005</th>\n",
              "      <td>8946750030</td>\n",
              "      <td>20141218T000000</td>\n",
              "      <td>245000.0</td>\n",
              "      <td>3</td>\n",
              "      <td>2.25</td>\n",
              "      <td>1422</td>\n",
              "      <td>3677</td>\n",
              "      <td>2.0</td>\n",
              "      <td>0</td>\n",
              "      <td>0</td>\n",
              "      <td>3</td>\n",
              "      <td>7</td>\n",
              "      <td>1422</td>\n",
              "      <td>0</td>\n",
              "      <td>2012</td>\n",
              "      <td>0</td>\n",
              "      <td>98092</td>\n",
              "      <td>47.3204</td>\n",
              "      <td>-122.178</td>\n",
              "      <td>1677</td>\n",
              "      <td>3677</td>\n",
              "    </tr>\n",
              "  </tbody>\n",
              "</table>\n",
              "</div>"
            ],
            "text/plain": [
              "              id             date     price  ...     long  sqft_living15  sqft_lot15\n",
              "1001  3131200640  20150427T000000  700000.0  ... -122.327           1650        4590\n",
              "1002   984000710  20141022T000000  270000.0  ... -122.171           1610        8750\n",
              "1003  4167300350  20140508T000000  258000.0  ... -122.361           1840        9800\n",
              "1004  2826049282  20140614T000000  530000.0  ... -122.309           1930        7266\n",
              "1005  8946750030  20141218T000000  245000.0  ... -122.178           1677        3677\n",
              "\n",
              "[5 rows x 21 columns]"
            ]
          },
          "metadata": {
            "tags": []
          },
          "execution_count": 56
        }
      ]
    },
    {
      "cell_type": "markdown",
      "metadata": {
        "id": "sXkqjLv4EHSP"
      },
      "source": [
        "The prediction task is to predict the price of a house (column price) given the other features. We drop columns zipcode, id and data as they are not relevent in this case."
      ]
    },
    {
      "cell_type": "code",
      "metadata": {
        "id": "lFS4HRfJEE1P"
      },
      "source": [
        "train_df = train_df.drop(columns= ['zipcode'])\n",
        "test_df = test_df.drop(columns= ['zipcode', 'id', 'date'])"
      ],
      "execution_count": null,
      "outputs": []
    },
    {
      "cell_type": "code",
      "metadata": {
        "colab": {
          "base_uri": "https://localhost:8080/"
        },
        "id": "p8Z1gZOJSOMW",
        "outputId": "bd1006d3-1f5a-4010-f099-fa73131900c1"
      },
      "source": [
        "train_df.shape, test_df.shape"
      ],
      "execution_count": null,
      "outputs": [
        {
          "output_type": "execute_result",
          "data": {
            "text/plain": [
              "((1000, 18), (1000, 18))"
            ]
          },
          "metadata": {
            "tags": []
          },
          "execution_count": 58
        }
      ]
    },
    {
      "cell_type": "markdown",
      "metadata": {
        "id": "gGTmGccoElFK"
      },
      "source": [
        "Now we split our data into 2 parts, feature to train and target variable. Target variable is house price ('price')"
      ]
    },
    {
      "cell_type": "code",
      "metadata": {
        "id": "3FbQvgn0Efvi"
      },
      "source": [
        "train_x = train_df.loc[:, train_df.columns != 'price']\n",
        "train_y = train_df['price']\n",
        "test_x = test_df.loc[:, test_df.columns != 'price']\n",
        "test_y = test_df['price']"
      ],
      "execution_count": null,
      "outputs": []
    },
    {
      "cell_type": "code",
      "metadata": {
        "colab": {
          "base_uri": "https://localhost:8080/"
        },
        "id": "G5xFzPbMRmrf",
        "outputId": "1f097e95-3acc-43eb-a935-8823f6906b07"
      },
      "source": [
        "train_x.columns, test_x.columns"
      ],
      "execution_count": null,
      "outputs": [
        {
          "output_type": "execute_result",
          "data": {
            "text/plain": [
              "(Index(['bedrooms', 'bathrooms', 'sqft_living', 'sqft_lot', 'floors',\n",
              "        'waterfront', 'view', 'condition', 'grade', 'sqft_above',\n",
              "        'sqft_basement', 'yr_built', 'yr_renovated', 'lat', 'long',\n",
              "        'sqft_living15', 'sqft_lot15'],\n",
              "       dtype='object'),\n",
              " Index(['bedrooms', 'bathrooms', 'sqft_living', 'sqft_lot', 'floors',\n",
              "        'waterfront', 'view', 'condition', 'grade', 'sqft_above',\n",
              "        'sqft_basement', 'yr_built', 'yr_renovated', 'lat', 'long',\n",
              "        'sqft_living15', 'sqft_lot15'],\n",
              "       dtype='object'))"
            ]
          },
          "metadata": {
            "tags": []
          },
          "execution_count": 194
        }
      ]
    },
    {
      "cell_type": "markdown",
      "metadata": {
        "id": "_818yvvY86Fg"
      },
      "source": [
        "# Linear Regression Package"
      ]
    },
    {
      "cell_type": "markdown",
      "metadata": {
        "id": "UyjWDGggIFPQ"
      },
      "source": [
        "Now , lets fit the training data to our model"
      ]
    },
    {
      "cell_type": "code",
      "metadata": {
        "colab": {
          "base_uri": "https://localhost:8080/"
        },
        "id": "Y_8q-xPlFCKO",
        "outputId": "d15bbd95-afca-494d-c534-90b0f063afb3"
      },
      "source": [
        "reg = LinearRegression()\n",
        "reg.fit(train_x, train_y)"
      ],
      "execution_count": null,
      "outputs": [
        {
          "output_type": "execute_result",
          "data": {
            "text/plain": [
              "LinearRegression(copy_X=True, fit_intercept=True, n_jobs=None, normalize=False)"
            ]
          },
          "metadata": {
            "tags": []
          },
          "execution_count": 61
        }
      ]
    },
    {
      "cell_type": "markdown",
      "metadata": {
        "id": "EvJ_GV-mN6S0"
      },
      "source": [
        "Now we print the intercept and coefficients of our model"
      ]
    },
    {
      "cell_type": "code",
      "metadata": {
        "colab": {
          "base_uri": "https://localhost:8080/"
        },
        "id": "02FSEXBvOCD1",
        "outputId": "a82fa8aa-0d77-4646-e8d8-76deefee8c43"
      },
      "source": [
        "print(\"Intercept for our model(theta_0) : \", reg.intercept_)\n",
        "print(pd.DataFrame({'Features' : train_x.columns, 'Coef' : reg.coef_}))"
      ],
      "execution_count": null,
      "outputs": [
        {
          "output_type": "stream",
          "text": [
            "Intercept for our model(theta_0) :  -23088898.608538605\n",
            "         Features           Coef\n",
            "0        bedrooms  -14704.280497\n",
            "1       bathrooms   25687.783987\n",
            "2     sqft_living      83.084210\n",
            "3        sqft_lot       0.375930\n",
            "4          floors   15555.580988\n",
            "5      waterfront  715535.170470\n",
            "6            view   63027.898001\n",
            "7       condition   18816.402756\n",
            "8           grade   79534.602722\n",
            "9      sqft_above      42.010495\n",
            "10  sqft_basement      41.073715\n",
            "11       yr_built   -2400.669330\n",
            "12   yr_renovated      43.682942\n",
            "13            lat  553505.032276\n",
            "14           long   -7424.027121\n",
            "15  sqft_living15      68.015792\n",
            "16     sqft_lot15      -0.515528\n"
          ],
          "name": "stdout"
        }
      ]
    },
    {
      "cell_type": "markdown",
      "metadata": {
        "id": "dpk0-YyUIJWh"
      },
      "source": [
        "Check the MSE (mean squared error). mean_squared_error from sklearn accepts 2 parameters 'y_true' and 'y_pred'. True target value will be our 'train_y'. Lets find predicted target values for our training dataset."
      ]
    },
    {
      "cell_type": "code",
      "metadata": {
        "id": "mb7-XLfUI3rr"
      },
      "source": [
        "y_pred_train = reg.predict(train_x)"
      ],
      "execution_count": null,
      "outputs": []
    },
    {
      "cell_type": "code",
      "metadata": {
        "colab": {
          "base_uri": "https://localhost:8080/"
        },
        "id": "5eY-guzFI3ow",
        "outputId": "072dc99c-6234-46bf-c757-6991c2a4681f"
      },
      "source": [
        "#MSE\n",
        "mse_train = mean_squared_error(train_y, y_pred_train )\n",
        "print(mse_train)"
      ],
      "execution_count": null,
      "outputs": [
        {
          "output_type": "stream",
          "text": [
            "31486167775.794846\n"
          ],
          "name": "stdout"
        }
      ]
    },
    {
      "cell_type": "markdown",
      "metadata": {
        "id": "gMShfks5J9ay"
      },
      "source": [
        "We see that we get very high mse error. Lets standardize our features."
      ]
    },
    {
      "cell_type": "code",
      "metadata": {
        "colab": {
          "base_uri": "https://localhost:8080/"
        },
        "id": "n-ev5X2jHr6d",
        "outputId": "3868759b-edb7-460b-92bb-962ff6700865"
      },
      "source": [
        "scaler = StandardScaler()\n",
        "scaler.fit(train_x)"
      ],
      "execution_count": null,
      "outputs": [
        {
          "output_type": "execute_result",
          "data": {
            "text/plain": [
              "StandardScaler(copy=True, with_mean=True, with_std=True)"
            ]
          },
          "metadata": {
            "tags": []
          },
          "execution_count": 65
        }
      ]
    },
    {
      "cell_type": "code",
      "metadata": {
        "id": "k2zIdn6zInHO"
      },
      "source": [
        "train_x_scaled = scaler.transform(train_x)"
      ],
      "execution_count": null,
      "outputs": []
    },
    {
      "cell_type": "code",
      "metadata": {
        "colab": {
          "base_uri": "https://localhost:8080/"
        },
        "id": "VStTSUrMLFIU",
        "outputId": "4ca1b260-cc99-49b3-a526-8b754884138a"
      },
      "source": [
        "train_x_scaled.mean(axis= 0), train_x_scaled.std(axis = 0)"
      ],
      "execution_count": null,
      "outputs": [
        {
          "output_type": "execute_result",
          "data": {
            "text/plain": [
              "(array([-1.93622895e-16,  5.32907052e-17,  8.88178420e-17,  3.73034936e-17,\n",
              "         2.43360887e-16,  1.06581410e-17,  3.46389584e-17,  8.52651283e-17,\n",
              "         6.39488462e-17, -1.04805054e-16,  1.42108547e-17,  7.65609798e-16,\n",
              "         4.26325641e-17, -1.30384592e-14, -3.09867687e-14, -1.42108547e-17,\n",
              "         1.77635684e-18]),\n",
              " array([1., 1., 1., 1., 1., 1., 1., 1., 1., 1., 1., 1., 1., 1., 1., 1., 1.]))"
            ]
          },
          "metadata": {
            "tags": []
          },
          "execution_count": 67
        }
      ]
    },
    {
      "cell_type": "markdown",
      "metadata": {
        "id": "GfvG0WTJLhZV"
      },
      "source": [
        "We see that our mean becomes zero and variance is 1."
      ]
    },
    {
      "cell_type": "code",
      "metadata": {
        "id": "1kFkh6CSLVZA"
      },
      "source": [
        "train_y_scaled = (train_y - train_y.mean())/train_y.std()"
      ],
      "execution_count": null,
      "outputs": []
    },
    {
      "cell_type": "code",
      "metadata": {
        "colab": {
          "base_uri": "https://localhost:8080/"
        },
        "id": "4Z5cwSfHMSTw",
        "outputId": "8d6bf031-205c-4020-d427-adc40b51e857"
      },
      "source": [
        "train_y_scaled.mean(), train_y_scaled.std()"
      ],
      "execution_count": null,
      "outputs": [
        {
          "output_type": "execute_result",
          "data": {
            "text/plain": [
              "(5.206945985491984e-17, 0.9999999999999932)"
            ]
          },
          "metadata": {
            "tags": []
          },
          "execution_count": 69
        }
      ]
    },
    {
      "cell_type": "markdown",
      "metadata": {
        "id": "9w14rXi0PLwX"
      },
      "source": [
        "Lets fit the regression model again and see the results"
      ]
    },
    {
      "cell_type": "code",
      "metadata": {
        "colab": {
          "base_uri": "https://localhost:8080/"
        },
        "id": "Vfk93RIaPJ5U",
        "outputId": "ed8405a3-fe14-40df-9d59-e4fcd09ef065"
      },
      "source": [
        "reg_scaled = LinearRegression()\n",
        "reg_scaled.fit(train_x_scaled, train_y_scaled)"
      ],
      "execution_count": null,
      "outputs": [
        {
          "output_type": "execute_result",
          "data": {
            "text/plain": [
              "LinearRegression(copy_X=True, fit_intercept=True, n_jobs=None, normalize=False)"
            ]
          },
          "metadata": {
            "tags": []
          },
          "execution_count": 70
        }
      ]
    },
    {
      "cell_type": "code",
      "metadata": {
        "id": "vlNnJk08PVyG"
      },
      "source": [
        "y_pred_train_scaled = reg_scaled.predict(train_x_scaled)"
      ],
      "execution_count": null,
      "outputs": []
    },
    {
      "cell_type": "code",
      "metadata": {
        "colab": {
          "base_uri": "https://localhost:8080/"
        },
        "id": "tKwwGN9NQaht",
        "outputId": "9a52f53a-2552-47d7-9069-55817a3ba064"
      },
      "source": [
        "print(\"Intercept for our model(theta_0) : \", reg_scaled.intercept_)\n",
        "print(pd.DataFrame({'Features' : train_x.columns, 'Coef' : reg_scaled.coef_}))"
      ],
      "execution_count": null,
      "outputs": [
        {
          "output_type": "stream",
          "text": [
            "Intercept for our model(theta_0) :  3.0862932369431412e-15\n",
            "         Features      Coef\n",
            "0        bedrooms -0.036885\n",
            "1       bathrooms  0.054575\n",
            "2     sqft_living  0.167160\n",
            "3        sqft_lot  0.032054\n",
            "4          floors  0.023694\n",
            "5      waterfront  0.187762\n",
            "6            view  0.141979\n",
            "7       condition  0.038188\n",
            "8           grade  0.271678\n",
            "9      sqft_above  0.142244\n",
            "10  sqft_basement  0.079935\n",
            "11       yr_built -0.199250\n",
            "12   yr_renovated  0.050875\n",
            "13            lat  0.230864\n",
            "14           long -0.003049\n",
            "15  sqft_living15  0.134254\n",
            "16     sqft_lot15 -0.038087\n"
          ],
          "name": "stdout"
        }
      ]
    },
    {
      "cell_type": "code",
      "metadata": {
        "colab": {
          "base_uri": "https://localhost:8080/"
        },
        "id": "M2lL31rtPbK7",
        "outputId": "881f0cf8-053e-44fd-9690-e1e574e89c0a"
      },
      "source": [
        "# MSE\n",
        "mse_train_scaled = mean_squared_error(train_y_scaled, y_pred_train_scaled)\n",
        "print(mse_train_scaled)"
      ],
      "execution_count": null,
      "outputs": [
        {
          "output_type": "stream",
          "text": [
            "0.27319310156126586\n"
          ],
          "name": "stdout"
        }
      ]
    },
    {
      "cell_type": "markdown",
      "metadata": {
        "id": "MJpQFasUPidN"
      },
      "source": [
        "We generally scale the features to improve the perfomance and avoid large error.\n",
        "\n",
        "Now we evalute both the models on test datasets"
      ]
    },
    {
      "cell_type": "code",
      "metadata": {
        "colab": {
          "base_uri": "https://localhost:8080/"
        },
        "id": "QWff2m8BPhUR",
        "outputId": "0aa3d9f5-b52b-468b-94a4-28877398ad91"
      },
      "source": [
        "# model 1\n",
        "y_pred_test = reg.predict(test_x)\n",
        "\n",
        "#MSE\n",
        "mse_test = mean_squared_error(test_y, y_pred_test)\n",
        "print(mse_test)"
      ],
      "execution_count": null,
      "outputs": [
        {
          "output_type": "stream",
          "text": [
            "57628154705.66998\n"
          ],
          "name": "stdout"
        }
      ]
    },
    {
      "cell_type": "code",
      "metadata": {
        "id": "odk5nRHxSq6P"
      },
      "source": [
        "test_x_scaled = scaler.transform(test_x)\n",
        "test_y_scaled = (test_y - test_y.mean())/test_y.std()"
      ],
      "execution_count": null,
      "outputs": []
    },
    {
      "cell_type": "code",
      "metadata": {
        "colab": {
          "base_uri": "https://localhost:8080/"
        },
        "id": "UJUjgacKQROx",
        "outputId": "0693966b-4a49-4d00-bca4-e8cb641ef7d3"
      },
      "source": [
        "# model 2\n",
        "y_pred_test_scaled = reg_scaled.predict(test_x_scaled)\n",
        "\n",
        "# MSE\n",
        "mse_test_scaled = mean_squared_error(test_y_scaled, y_pred_test_scaled)\n",
        "print(mse_test_scaled)"
      ],
      "execution_count": null,
      "outputs": [
        {
          "output_type": "stream",
          "text": [
            "0.3484895670052034\n"
          ],
          "name": "stdout"
        }
      ]
    },
    {
      "cell_type": "code",
      "metadata": {
        "colab": {
          "base_uri": "https://localhost:8080/",
          "height": 381
        },
        "id": "vVVjA4RrTADH",
        "outputId": "080f3cfe-ac1f-4fdc-f434-d4f883a201d8"
      },
      "source": [
        "summarize_results = pd.DataFrame(index=['Python package without feature scaling','Python package with feature scaling'],\n",
        "                                 columns=['training_MSE','testing_MSE'])\n",
        "summarize_results['training_MSE'] = [mse_train,mse_train_scaled]\n",
        "summarize_results['testing_MSE'] = [mse_test, mse_test_scaled]\n",
        "\n",
        "display(summarize_results.style.format(\"{:.10f}\"))\n",
        "print(pd.DataFrame({'Features' : train_x.columns, 'Coef' : reg_scaled.coef_}).sort_values(by = 'Coef', ascending = False))"
      ],
      "execution_count": null,
      "outputs": [
        {
          "output_type": "display_data",
          "data": {
            "text/html": [
              "<style  type=\"text/css\" >\n",
              "</style><table id=\"T_0dbbdfaa_4e12_11eb_8014_0242ac1c0002\" ><thead>    <tr>        <th class=\"blank level0\" ></th>        <th class=\"col_heading level0 col0\" >training_MSE</th>        <th class=\"col_heading level0 col1\" >testing_MSE</th>    </tr></thead><tbody>\n",
              "                <tr>\n",
              "                        <th id=\"T_0dbbdfaa_4e12_11eb_8014_0242ac1c0002level0_row0\" class=\"row_heading level0 row0\" >Python package without feature scaling</th>\n",
              "                        <td id=\"T_0dbbdfaa_4e12_11eb_8014_0242ac1c0002row0_col0\" class=\"data row0 col0\" >31486167775.7948455811</td>\n",
              "                        <td id=\"T_0dbbdfaa_4e12_11eb_8014_0242ac1c0002row0_col1\" class=\"data row0 col1\" >57628154705.6699829102</td>\n",
              "            </tr>\n",
              "            <tr>\n",
              "                        <th id=\"T_0dbbdfaa_4e12_11eb_8014_0242ac1c0002level0_row1\" class=\"row_heading level0 row1\" >Python package with feature scaling</th>\n",
              "                        <td id=\"T_0dbbdfaa_4e12_11eb_8014_0242ac1c0002row1_col0\" class=\"data row1 col0\" >0.2731931016</td>\n",
              "                        <td id=\"T_0dbbdfaa_4e12_11eb_8014_0242ac1c0002row1_col1\" class=\"data row1 col1\" >0.3484895670</td>\n",
              "            </tr>\n",
              "    </tbody></table>"
            ],
            "text/plain": [
              "<pandas.io.formats.style.Styler at 0x7f3cb77008d0>"
            ]
          },
          "metadata": {
            "tags": []
          }
        },
        {
          "output_type": "stream",
          "text": [
            "         Features      Coef\n",
            "8           grade  0.271678\n",
            "13            lat  0.230864\n",
            "5      waterfront  0.187762\n",
            "2     sqft_living  0.167160\n",
            "9      sqft_above  0.142244\n",
            "6            view  0.141979\n",
            "15  sqft_living15  0.134254\n",
            "10  sqft_basement  0.079935\n",
            "1       bathrooms  0.054575\n",
            "12   yr_renovated  0.050875\n",
            "7       condition  0.038188\n",
            "3        sqft_lot  0.032054\n",
            "4          floors  0.023694\n",
            "14           long -0.003049\n",
            "0        bedrooms -0.036885\n",
            "16     sqft_lot15 -0.038087\n",
            "11       yr_built -0.199250\n"
          ],
          "name": "stdout"
        }
      ]
    },
    {
      "cell_type": "markdown",
      "metadata": {
        "id": "lFwpnHxXVbdJ"
      },
      "source": [
        "## Conclusion\n",
        "\n",
        "We see that without scaling we get very high error. After scaling we get very low error. \n",
        "\n",
        "From the coefficients we see that magnitude for  'grade', 'lat','waterfront', 'sqft_living' are high and so they contribute most to the house price prediction.\n",
        "\n",
        "With scaling with get low error on training as well as testing dataset, so we can say that this model fits our data well. "
      ]
    },
    {
      "cell_type": "markdown",
      "metadata": {
        "id": "t3snGb5iYw_i"
      },
      "source": [
        "# Linear Regression Closed form solution"
      ]
    },
    {
      "cell_type": "markdown",
      "metadata": {
        "id": "pENGi4R_Y5jy"
      },
      "source": [
        "## Part - a\n",
        "\n",
        "Implement simple linear regression using the closed form and train a model for one feature (sqft living)\n",
        "using the training set. Write code to predict a response for a new single-dimensional data point in the\n",
        "testing set."
      ]
    },
    {
      "cell_type": "markdown",
      "metadata": {
        "id": "wrTPCMI6ZEHQ"
      },
      "source": [
        "The closed for solution is given as $\\theta = (X^T X)^{-1} X^T y$.\n",
        "\n",
        "Were x is our training set and y is target variable. First we use only single variable so X is this case will we 1-D vector."
      ]
    },
    {
      "cell_type": "code",
      "metadata": {
        "id": "T4OUJ8gaa_-H"
      },
      "source": [
        "train_x_sqft_liv = train_x[['sqft_living']]"
      ],
      "execution_count": null,
      "outputs": []
    },
    {
      "cell_type": "code",
      "metadata": {
        "colab": {
          "base_uri": "https://localhost:8080/"
        },
        "id": "IrmXZuUSbHdr",
        "outputId": "a9157bc3-1e9d-4d27-a343-b2d8ce139666"
      },
      "source": [
        "train_x_sqft_liv.shape, train_y.shape"
      ],
      "execution_count": null,
      "outputs": [
        {
          "output_type": "execute_result",
          "data": {
            "text/plain": [
              "((1000, 1), (1000,))"
            ]
          },
          "metadata": {
            "tags": []
          },
          "execution_count": 110
        }
      ]
    },
    {
      "cell_type": "markdown",
      "metadata": {
        "id": "_m_AYyYLcSOE"
      },
      "source": [
        "We need to insert a column with 1's at the start to account for the bias term ($\\theta_0$)"
      ]
    },
    {
      "cell_type": "code",
      "metadata": {
        "id": "VcuSrc2jb6k7"
      },
      "source": [
        "train_x_sqft_liv.insert(loc = 0, column = 'x_0', value=1)"
      ],
      "execution_count": null,
      "outputs": []
    },
    {
      "cell_type": "code",
      "metadata": {
        "colab": {
          "base_uri": "https://localhost:8080/"
        },
        "id": "msTwpZuWcgFn",
        "outputId": "d84f02a5-68b3-46d7-ca27-02a959f54ea1"
      },
      "source": [
        "train_x_sqft_liv.shape, train_y.shape"
      ],
      "execution_count": null,
      "outputs": [
        {
          "output_type": "execute_result",
          "data": {
            "text/plain": [
              "((1000, 2), (1000,))"
            ]
          },
          "metadata": {
            "tags": []
          },
          "execution_count": 112
        }
      ]
    },
    {
      "cell_type": "code",
      "metadata": {
        "id": "V9b7SpHoVTeb"
      },
      "source": [
        "theta_a = np.linalg.inv(np.dot(train_x_sqft_liv.T, train_x_sqft_liv)).dot(train_x_sqft_liv.T).dot(train_y)"
      ],
      "execution_count": null,
      "outputs": []
    },
    {
      "cell_type": "code",
      "metadata": {
        "colab": {
          "base_uri": "https://localhost:8080/"
        },
        "id": "TjXNUcpPVOWv",
        "outputId": "6645e073-4fde-4d41-956d-f878a484c009"
      },
      "source": [
        "theta_a"
      ],
      "execution_count": null,
      "outputs": [
        {
          "output_type": "execute_result",
          "data": {
            "text/plain": [
              "array([-32304.65472103,    269.46205468])"
            ]
          },
          "metadata": {
            "tags": []
          },
          "execution_count": 114
        }
      ]
    },
    {
      "cell_type": "markdown",
      "metadata": {
        "id": "7OtX6oTXclxo"
      },
      "source": [
        "Our hypothesis for linear regression (considering d dimensions) is $h_x(\\theta) = \\theta_0 x_0 + \\theta_1 x_1 +....+ \\theta_d x_d $ \n",
        "\n",
        "Writing in vector form\n",
        "$h_x(\\theta) = \\textbf{$\\theta^T x$} $\n",
        "\n",
        "Therefore our prediction formula will be"
      ]
    },
    {
      "cell_type": "code",
      "metadata": {
        "id": "EcKThYsUeSIc"
      },
      "source": [
        "test_x_sqft_liv = test_x[['sqft_living']]\n",
        "test_x_sqft_liv.insert(loc = 0, column = 'x_0', value=1)"
      ],
      "execution_count": null,
      "outputs": []
    },
    {
      "cell_type": "code",
      "metadata": {
        "id": "kXJrfNL_a1X6"
      },
      "source": [
        "y_pred_test_closed_form = np.dot(theta_a.T, np.array(test_x_sqft_liv.T)[:, 0])"
      ],
      "execution_count": null,
      "outputs": []
    },
    {
      "cell_type": "code",
      "metadata": {
        "colab": {
          "base_uri": "https://localhost:8080/"
        },
        "id": "aOl8IVzmePvi",
        "outputId": "2837e9f6-b535-4c9f-ca0c-6dc0396bfa66"
      },
      "source": [
        "y_pred_test_closed_form, np.array(test_y)[0]"
      ],
      "execution_count": null,
      "outputs": [
        {
          "output_type": "execute_result",
          "data": {
            "text/plain": [
              "(460810.9053519643, 700000.0)"
            ]
          },
          "metadata": {
            "tags": []
          },
          "execution_count": 143
        }
      ]
    },
    {
      "cell_type": "markdown",
      "metadata": {
        "id": "9apgs5XdgY80"
      },
      "source": [
        "## Part - b\n",
        "\n",
        "Implement the closed-from solution for multiple linear regression using matrix operations and train a\n",
        "model on the training set. Write code to predict a response for a new multi-dimensional data point in\n",
        "the testing set."
      ]
    },
    {
      "cell_type": "markdown",
      "metadata": {
        "id": "7nt283W7j8UZ"
      },
      "source": [
        "We need to add column with 1's at start to account for $x_0$ and standardized our training and testing data. (Note - we dont scale $x_0$) "
      ]
    },
    {
      "cell_type": "code",
      "metadata": {
        "id": "mRPSeroRj78M"
      },
      "source": [
        "train_x_closed = train_x.copy()\n",
        "train_x_closed_scaled = (train_x_closed - train_x_closed.mean())/ train_x_closed.std() \n",
        "train_x_closed_scaled.insert(loc = 0, column  = 'x_0', value=1)\n",
        "\n",
        "test_x_closed = test_x.copy()\n",
        "test_x_closed_scaled = (test_x_closed - test_x_closed.mean())/ test_x_closed.std() \n",
        "test_x_closed_scaled.insert(loc = 0, column  = 'x_0', value=1)"
      ],
      "execution_count": null,
      "outputs": []
    },
    {
      "cell_type": "code",
      "metadata": {
        "colab": {
          "base_uri": "https://localhost:8080/"
        },
        "id": "ILbSSu4NmQQB",
        "outputId": "d276c834-c621-4148-da37-e9272ba7360d"
      },
      "source": [
        "train_x_closed_scaled.shape, train_y_scaled.shape"
      ],
      "execution_count": null,
      "outputs": [
        {
          "output_type": "execute_result",
          "data": {
            "text/plain": [
              "((1000, 18), (1000,))"
            ]
          },
          "metadata": {
            "tags": []
          },
          "execution_count": 202
        }
      ]
    },
    {
      "cell_type": "code",
      "metadata": {
        "colab": {
          "base_uri": "https://localhost:8080/"
        },
        "id": "Mwixl8huwX40",
        "outputId": "52b614bc-2548-412c-e9e2-9f01387f2d40"
      },
      "source": [
        "train_x_closed_scaled.columns"
      ],
      "execution_count": null,
      "outputs": [
        {
          "output_type": "execute_result",
          "data": {
            "text/plain": [
              "Index(['x_0', 'bedrooms', 'bathrooms', 'sqft_living', 'sqft_lot', 'floors',\n",
              "       'waterfront', 'view', 'condition', 'grade', 'sqft_above',\n",
              "       'sqft_basement', 'yr_built', 'yr_renovated', 'lat', 'long',\n",
              "       'sqft_living15', 'sqft_lot15'],\n",
              "      dtype='object')"
            ]
          },
          "metadata": {
            "tags": []
          },
          "execution_count": 203
        }
      ]
    },
    {
      "cell_type": "code",
      "metadata": {
        "id": "skYARgnKezz4"
      },
      "source": [
        "theta_closed_form = np.linalg.pinv(np.dot(train_x_closed_scaled.T, train_x_closed_scaled)).dot(train_x_closed_scaled.T).dot(train_y_scaled)"
      ],
      "execution_count": null,
      "outputs": []
    },
    {
      "cell_type": "code",
      "metadata": {
        "colab": {
          "base_uri": "https://localhost:8080/"
        },
        "id": "9IPJdWfRuHAw",
        "outputId": "6fb39fc1-022a-4200-dac8-2dc61adea88b"
      },
      "source": [
        "theta_closed_form"
      ],
      "execution_count": null,
      "outputs": [
        {
          "output_type": "execute_result",
          "data": {
            "text/plain": [
              "array([ 1.16177901e-13, -3.69032482e-02,  5.46024520e-02,  1.67243475e-01,\n",
              "        3.20697585e-02,  2.37055048e-02,  1.87855551e-01,  1.42049671e-01,\n",
              "        3.82067647e-02,  2.71813718e-01,  1.42314851e-01,  7.99750595e-02,\n",
              "       -1.99349813e-01,  5.09001715e-02,  2.30979722e-01, -3.05082836e-03,\n",
              "        1.34321094e-01, -3.81060382e-02])"
            ]
          },
          "metadata": {
            "tags": []
          },
          "execution_count": 216
        }
      ]
    },
    {
      "cell_type": "code",
      "metadata": {
        "id": "UCkmfy_hgl5o"
      },
      "source": [
        "y_pred_train_closed_form = np.dot(theta_closed_form.T, np.array(train_x_closed_scaled.T))\n",
        "y_pred_test_closed_form = np.dot(theta_closed_form.T, np.array(test_x_closed_scaled.T))"
      ],
      "execution_count": null,
      "outputs": []
    },
    {
      "cell_type": "code",
      "metadata": {
        "id": "Hl6InoZpgxQn"
      },
      "source": [
        "mse_train_closed = mean_squared_error(train_y_scaled, y_pred_train_closed_form)\n",
        "mse_test_closed = mean_squared_error(test_y_scaled, y_pred_test_closed_form)"
      ],
      "execution_count": null,
      "outputs": []
    },
    {
      "cell_type": "code",
      "metadata": {
        "colab": {
          "base_uri": "https://localhost:8080/",
          "height": 78
        },
        "id": "uCa-LEv3lfTF",
        "outputId": "529f76a9-b850-4cf5-b179-d99f650a8fbd"
      },
      "source": [
        "summarize_results_closed = pd.DataFrame(index=['Python package with feature scaling','Closed Form Solution'],\n",
        "                                        columns=['training_MSE','testing_MSE'])\n",
        "summarize_results_closed['training_MSE'] = [mse_train_scaled,mse_train_closed]\n",
        "summarize_results_closed['testing_MSE'] = [mse_test_scaled, mse_test_closed]\n",
        "\n",
        "display(summarize_results_closed.style.format(\"{:.10f}\"))\n"
      ],
      "execution_count": null,
      "outputs": [
        {
          "output_type": "display_data",
          "data": {
            "text/html": [
              "<style  type=\"text/css\" >\n",
              "</style><table id=\"T_6d104ab0_4e29_11eb_8014_0242ac1c0002\" ><thead>    <tr>        <th class=\"blank level0\" ></th>        <th class=\"col_heading level0 col0\" >training_MSE</th>        <th class=\"col_heading level0 col1\" >testing_MSE</th>    </tr></thead><tbody>\n",
              "                <tr>\n",
              "                        <th id=\"T_6d104ab0_4e29_11eb_8014_0242ac1c0002level0_row0\" class=\"row_heading level0 row0\" >Python package with feature scaling</th>\n",
              "                        <td id=\"T_6d104ab0_4e29_11eb_8014_0242ac1c0002row0_col0\" class=\"data row0 col0\" >0.2731931016</td>\n",
              "                        <td id=\"T_6d104ab0_4e29_11eb_8014_0242ac1c0002row0_col1\" class=\"data row0 col1\" >0.3484895670</td>\n",
              "            </tr>\n",
              "            <tr>\n",
              "                        <th id=\"T_6d104ab0_4e29_11eb_8014_0242ac1c0002level0_row1\" class=\"row_heading level0 row1\" >Closed Form Solution</th>\n",
              "                        <td id=\"T_6d104ab0_4e29_11eb_8014_0242ac1c0002row1_col0\" class=\"data row1 col0\" >0.2731931016</td>\n",
              "                        <td id=\"T_6d104ab0_4e29_11eb_8014_0242ac1c0002row1_col1\" class=\"data row1 col1\" >0.3396416052</td>\n",
              "            </tr>\n",
              "    </tbody></table>"
            ],
            "text/plain": [
              "<pandas.io.formats.style.Styler at 0x7f3cb73be550>"
            ]
          },
          "metadata": {
            "tags": []
          }
        }
      ]
    },
    {
      "cell_type": "markdown",
      "metadata": {
        "id": "_sjkQ6Fa8Og-"
      },
      "source": [
        "We see that we get almost same error using python package and closed form solution. Because python package implements closed form solution. "
      ]
    },
    {
      "cell_type": "markdown",
      "metadata": {
        "id": "ToQqXHEi8wT2"
      },
      "source": [
        "# Gradient Descent"
      ]
    },
    {
      "cell_type": "markdown",
      "metadata": {
        "id": "siSK6M_V9MvP"
      },
      "source": [
        "We used the scaled dataset for doing gradient descent."
      ]
    },
    {
      "cell_type": "code",
      "metadata": {
        "id": "jZc_HCjr8Ik9"
      },
      "source": [
        "class MyLinearRegression():\n",
        "  def __init__(self):\n",
        "    pass\n",
        "\n",
        "  def fit(self, X, y, learning_rate = 0.01, loss_diff = 10**-5, n_iter = 1000, method = 'closed-form'):\n",
        "    # we convert X, y to numpy array\n",
        "\n",
        "    self.x_shape = X.shape \n",
        "    # X -> m*d\n",
        "    X = np.array(X)\n",
        "\n",
        "    y = np.array(y)\n",
        "    # y -> m*1\n",
        "    y = np.reshape(y, newshape= (self.x_shape[0], 1))\n",
        "\n",
        "    # theta -> d*1\n",
        "    self.theta = np.zeros(shape = (self.x_shape[1] + 1, 1))\n",
        "\n",
        "    # x_0 bias term\n",
        "    x_0 = np.ones(shape=(self.x_shape[0], 1))\n",
        "\n",
        "    X = np.hstack((x_0, X))\n",
        "\n",
        "    # Intialize itr to 1 as we compute theta once before entering loop and initialize loss array\n",
        "    self.itr = 1\n",
        "    self.loss = []\n",
        "    self.learning_rate = learning_rate\n",
        "\n",
        "    def loss_function():\n",
        "      return np.sum((np.dot(X, self.theta) - y)**2)/ 2*self.x_shape[0]\n",
        "    \n",
        "    # Initial loss with theta = 0 \n",
        "    self.loss.append(loss_function())\n",
        "\n",
        "    # Update theta once\n",
        "    self.theta = self.theta - learning_rate*np.dot(X.T,(np.dot(X, self.theta) - y))/self.x_shape[0]\n",
        "    self.loss.append(loss_function())\n",
        "\n",
        "    ''' we stop loop if one of the condition is satisfied :\n",
        "        - difference between consecutive values of loss function is samller than given loss_diff\n",
        "        - after executing it for specified number of iterations\n",
        "    '''\n",
        "    while (self.itr < n_iter):\n",
        "      if (abs(self.loss[-1] - self.loss[-2]) < loss_diff):\n",
        "        break\n",
        "      else:\n",
        "        self.theta = self.theta - learning_rate*np.dot(X.T,(np.dot(X, self.theta) - y))/self.x_shape[0]\n",
        "        self.loss.append(loss_function())\n",
        "        self.itr = self.itr + 1\n",
        "\n",
        "    # print(self.loss)\n",
        "    # print(self.theta)\n",
        "\n",
        "  def predict(self, X):\n",
        "    X = np.array(X)\n",
        "    x_0 = np.ones(shape=(self.x_shape[0], 1))\n",
        "    X = np.hstack((x_0, X))\n",
        "\n",
        "    return np.dot(X, self.theta)\n",
        "\n",
        "  def plot_loss_function(self):\n",
        "    fig = plt.figure()\n",
        "    plt.plot(range(self.itr + 1), self.loss)\n",
        "    plt.xlabel('No of Iterations')\n",
        "    plt.ylabel('Loss function')\n",
        "    \n",
        "    learning_rate_patch = mpatches.Patch(color=None, label='Learning rate : {}'.format(self.learning_rate))\n",
        "    iteration_patch = mpatches.Patch(color=None, label='Learning rate : {}'.format(self.itr))\n",
        "    plt.legend(handles=[learning_rate_patch, iteration_patch])\n",
        "\n",
        "    plt.show()"
      ],
      "execution_count": null,
      "outputs": []
    },
    {
      "cell_type": "code",
      "metadata": {
        "id": "PtK0vJ2f__ZX"
      },
      "source": [
        "my_reg = MyLinearRegression()"
      ],
      "execution_count": null,
      "outputs": []
    },
    {
      "cell_type": "code",
      "metadata": {
        "id": "YZJq2Y6fABtY"
      },
      "source": [
        "my_reg.fit(train_x_scaled, train_y_scaled)"
      ],
      "execution_count": null,
      "outputs": []
    },
    {
      "cell_type": "code",
      "metadata": {
        "id": "UmGThExLm-ao"
      },
      "source": [
        "y_pred_test_my_reg = my_reg.predict(test_x_scaled)"
      ],
      "execution_count": null,
      "outputs": []
    },
    {
      "cell_type": "code",
      "metadata": {
        "colab": {
          "base_uri": "https://localhost:8080/"
        },
        "id": "TQ4PIG0EoCrC",
        "outputId": "d207229f-4200-42ef-9fce-b59edb55facc"
      },
      "source": [
        "mean_squared_error(test_y_scaled,y_pred_test_my_reg )"
      ],
      "execution_count": null,
      "outputs": [
        {
          "output_type": "execute_result",
          "data": {
            "text/plain": [
              "0.34854084211373454"
            ]
          },
          "metadata": {
            "tags": []
          },
          "execution_count": 409
        }
      ]
    },
    {
      "cell_type": "markdown",
      "metadata": {
        "id": "COrFzYM2oRPk"
      },
      "source": [
        "We see that we get almost same mse on test set as we got from closed form solution/package. By default it uses learning rate of 0.01, and it it stops when we either reach 1000 iteration or when consecutive loss function difference is $10^{-5}$. We can also plot loss function vs iterations. We expect loss function to decrease after every iteration."
      ]
    },
    {
      "cell_type": "code",
      "metadata": {
        "colab": {
          "base_uri": "https://localhost:8080/",
          "height": 279
        },
        "id": "rlkgh92DMU8r",
        "outputId": "0e9033ea-b86c-4300-bea8-b0987e23d83e"
      },
      "source": [
        "my_reg.plot_loss_function()"
      ],
      "execution_count": null,
      "outputs": [
        {
          "output_type": "display_data",
          "data": {
            "image/png": "[encoded data removed]",
            "text/plain": [
              "<Figure size 432x288 with 1 Axes>"
            ]
          },
          "metadata": {
            "tags": [],
            "needs_background": "light"
          }
        }
      ]
    },
    {
      "cell_type": "markdown",
      "metadata": {
        "id": "GNC2VjRQo-sE"
      },
      "source": [
        "In the above plot after 400 iterations we see flat line, so loss doesn't decrease any further and we stop it."
      ]
    },
    {
      "cell_type": "markdown",
      "metadata": {
        "id": "-l0xgFuOpWc9"
      },
      "source": [
        "In the above example we used default learning rates and iterations. But we can change these values and see how gradient descent works."
      ]
    },
    {
      "cell_type": "code",
      "metadata": {
        "colab": {
          "base_uri": "https://localhost:8080/",
          "height": 279
        },
        "id": "ActF96XBdI1C",
        "outputId": "072aec12-382f-435a-d928-17ce42f024ef"
      },
      "source": [
        "my_reg.fit(train_x_scaled, train_y_scaled, learning_rate=0.003)\n",
        "my_reg.plot_loss_function()"
      ],
      "execution_count": null,
      "outputs": [
        {
          "output_type": "display_data",
          "data": {
            "image/png": "[encoded data removed]",
            "text/plain": [
              "<Figure size 432x288 with 1 Axes>"
            ]
          },
          "metadata": {
            "tags": [],
            "needs_background": "light"
          }
        }
      ]
    },
    {
      "cell_type": "code",
      "metadata": {
        "colab": {
          "base_uri": "https://localhost:8080/",
          "height": 279
        },
        "id": "wxxAB7QDp1y3",
        "outputId": "40d162c7-c094-475d-edaa-7253af821fa1"
      },
      "source": [
        "my_reg.fit(train_x_scaled, train_y_scaled, learning_rate=0.001)\n",
        "my_reg.plot_loss_function()"
      ],
      "execution_count": null,
      "outputs": [
        {
          "output_type": "display_data",
          "data": {
            "image/png": "[encoded data removed]",
            "text/plain": [
              "<Figure size 432x288 with 1 Axes>"
            ]
          },
          "metadata": {
            "tags": [],
            "needs_background": "light"
          }
        }
      ]
    },
    {
      "cell_type": "markdown",
      "metadata": {
        "id": "ojGhPeIk0-nw"
      },
      "source": [
        "From the above 3 figures we see that as we decrease the learning rate our loss function decreases very slowly and hence we would need more iteration to achieve the optimum solution. For learning rate 0.01 we achieve good results after 300 iterations, for learning rate of 0.003 we need around 600 iteration and for 0.001 we need more than 1000 iterations.\n",
        "\n",
        "Now lets see what happens if we increase the learning rate.\n",
        "\n"
      ]
    },
    {
      "cell_type": "code",
      "metadata": {
        "colab": {
          "base_uri": "https://localhost:8080/",
          "height": 290
        },
        "id": "bH_Ev5lkp3Vs",
        "outputId": "f511d17c-80a6-4f4e-f458-499a84353789"
      },
      "source": [
        "my_reg.fit(train_x_scaled, train_y_scaled, learning_rate=0.4)\n",
        "my_reg.plot_loss_function()"
      ],
      "execution_count": null,
      "outputs": [
        {
          "output_type": "display_data",
          "data": {
            "image/png": "[encoded data removed]",
            "text/plain": [
              "<Figure size 432x288 with 1 Axes>"
            ]
          },
          "metadata": {
            "tags": [],
            "needs_background": "light"
          }
        }
      ]
    },
    {
      "cell_type": "markdown",
      "metadata": {
        "id": "kyAHwSYt1yIk"
      },
      "source": [
        "For learning rate of 0.4 we see that our loss function increases instead of decreasing (Notice the $e^{75}$ on yscale which is too high). So we see that for higher learning rate our solution diverges instead of converging. \n",
        "\n",
        "In general decreasing learning rate would make gradient slow by requiring extra iterations. Increasing learning rate would require less iteration and faster convergence. But increasing learning rate too high would result in very large steps and solution diverges."
      ]
    },
    {
      "cell_type": "code",
      "metadata": {
        "id": "GEziayj7un5-"
      },
      "source": [
        ""
      ],
      "execution_count": null,
      "outputs": []
    }
  ]
}